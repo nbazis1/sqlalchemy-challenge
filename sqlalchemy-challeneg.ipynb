{
 "cells": [
  {
   "cell_type": "markdown",
   "id": "a392d109-fad1-45fa-8cdc-ed33326925ca",
   "metadata": {},
   "source": [
    "## Dependencies"
   ]
  },
  {
   "cell_type": "code",
   "execution_count": 1,
   "id": "25c0684c-0ca3-4d95-b065-953be0881f5b",
   "metadata": {
    "tags": []
   },
   "outputs": [],
   "source": [
    "%matplotlib inline\n",
    "from matplotlib import style\n",
    "style.use('fivethirtyeight')\n",
    "import matplotlib.pyplot as plt"
   ]
  },
  {
   "cell_type": "code",
   "execution_count": 2,
   "id": "d2768437-d675-4dc4-87f0-2046717d4e48",
   "metadata": {},
   "outputs": [],
   "source": [
    "import numpy as np\n",
    "import pandas as pd\n",
    "import datetime as dt\n",
    "from datetime import timedelta as td\n",
    "import scipy.stats as st"
   ]
  },
  {
   "cell_type": "markdown",
   "id": "43d5e403-ff2b-49b7-8ad5-7605929ed1f3",
   "metadata": {},
   "source": [
    "# Reflect Tables into SQLAlchemy ORM"
   ]
  },
  {
   "cell_type": "code",
   "execution_count": 3,
   "id": "a5fc8452-49de-4ed6-9e4b-f322dcd11748",
   "metadata": {},
   "outputs": [],
   "source": [
    "# Python SQL toolkit and Object Relational Mapper\n",
    "import sqlalchemy\n",
    "from sqlalchemy.ext.automap import automap_base\n",
    "from sqlalchemy.orm import Session\n",
    "from sqlalchemy import create_engine, func"
   ]
  },
  {
   "cell_type": "code",
   "execution_count": 4,
   "id": "c94b6a46-c6e0-4106-9916-7dc04866909e",
   "metadata": {},
   "outputs": [],
   "source": [
    "# create engine to hawaii.sqlite\n",
    "engine = create_engine(\"sqlite:///Resources/hawaii.sqlite\")"
   ]
  },
  {
   "cell_type": "code",
   "execution_count": 5,
   "id": "7bc53674-f107-4c83-a5dc-1f4f825e5ca3",
   "metadata": {},
   "outputs": [],
   "source": [
    "# reflect an existing database into a new model\n",
    "Base = automap_base()\n",
    "# reflect the tables\n",
    "# Base.prepare(autoload_with=engine)\n",
    "Base.prepare(engine, reflect=True)"
   ]
  },
  {
   "cell_type": "code",
   "execution_count": 6,
   "id": "db49a343-8b6e-4437-ac2c-5beb1ecc65ab",
   "metadata": {},
   "outputs": [
    {
     "name": "stdout",
     "output_type": "stream",
     "text": [
      "['measurement', 'station']\n"
     ]
    }
   ],
   "source": [
    "# View all of the classes that automap found\n",
    "print(Base.classes.keys())"
   ]
  },
  {
   "cell_type": "code",
   "execution_count": 7,
   "id": "4bbbc297-b88b-4fb8-b4f6-009fed7d0b4d",
   "metadata": {},
   "outputs": [],
   "source": [
    "# Save references to each table\n",
    "measure = Base.classes.measurement\n",
    "station = Base.classes.station"
   ]
  },
  {
   "cell_type": "code",
   "execution_count": 8,
   "id": "88cbfad4-1e8b-4581-8aa0-4fdadb5f4878",
   "metadata": {},
   "outputs": [],
   "source": [
    "# Create our session (link) from Python to the DB\n",
    "session = Session(engine)"
   ]
  },
  {
   "cell_type": "markdown",
   "id": "728efbda-3a20-407d-8dd3-8b5b16ec9f42",
   "metadata": {},
   "source": [
    "# Exploratory Precipitation Analysis"
   ]
  },
  {
   "cell_type": "code",
   "execution_count": 9,
   "id": "fce38343-ccb0-4023-ae62-8810b141483e",
   "metadata": {},
   "outputs": [
    {
     "data": {
      "text/plain": [
       "('2017-08-23',)"
      ]
     },
     "execution_count": 9,
     "metadata": {},
     "output_type": "execute_result"
    }
   ],
   "source": [
    "# Find the most recent date in the data set.\n",
    "session.query(measure.date).order_by(measure.date.desc()).first()"
   ]
  },
  {
   "cell_type": "code",
   "execution_count": 10,
   "id": "8d68384a-2d6a-4da6-818f-1fe1a2471ab4",
   "metadata": {},
   "outputs": [
    {
     "data": {
      "text/html": [
       "<div>\n",
       "<style scoped>\n",
       "    .dataframe tbody tr th:only-of-type {\n",
       "        vertical-align: middle;\n",
       "    }\n",
       "\n",
       "    .dataframe tbody tr th {\n",
       "        vertical-align: top;\n",
       "    }\n",
       "\n",
       "    .dataframe thead th {\n",
       "        text-align: right;\n",
       "    }\n",
       "</style>\n",
       "<table border=\"1\" class=\"dataframe\">\n",
       "  <thead>\n",
       "    <tr style=\"text-align: right;\">\n",
       "      <th></th>\n",
       "      <th>date</th>\n",
       "      <th>precipitation</th>\n",
       "    </tr>\n",
       "  </thead>\n",
       "  <tbody>\n",
       "    <tr>\n",
       "      <th>2229</th>\n",
       "      <td>2017-08-23</td>\n",
       "      <td>0.45</td>\n",
       "    </tr>\n",
       "    <tr>\n",
       "      <th>1528</th>\n",
       "      <td>2017-08-23</td>\n",
       "      <td>0.08</td>\n",
       "    </tr>\n",
       "    <tr>\n",
       "      <th>1008</th>\n",
       "      <td>2017-08-23</td>\n",
       "      <td>0.00</td>\n",
       "    </tr>\n",
       "    <tr>\n",
       "      <th>360</th>\n",
       "      <td>2017-08-23</td>\n",
       "      <td>0.00</td>\n",
       "    </tr>\n",
       "    <tr>\n",
       "      <th>1527</th>\n",
       "      <td>2017-08-22</td>\n",
       "      <td>0.00</td>\n",
       "    </tr>\n",
       "    <tr>\n",
       "      <th>...</th>\n",
       "      <td>...</td>\n",
       "      <td>...</td>\n",
       "    </tr>\n",
       "    <tr>\n",
       "      <th>361</th>\n",
       "      <td>2016-08-23</td>\n",
       "      <td>0.15</td>\n",
       "    </tr>\n",
       "    <tr>\n",
       "      <th>1881</th>\n",
       "      <td>2016-08-23</td>\n",
       "      <td>0.70</td>\n",
       "    </tr>\n",
       "    <tr>\n",
       "      <th>1192</th>\n",
       "      <td>2016-08-23</td>\n",
       "      <td>0.02</td>\n",
       "    </tr>\n",
       "    <tr>\n",
       "      <th>1009</th>\n",
       "      <td>2016-08-23</td>\n",
       "      <td>NaN</td>\n",
       "    </tr>\n",
       "    <tr>\n",
       "      <th>0</th>\n",
       "      <td>2016-08-23</td>\n",
       "      <td>0.00</td>\n",
       "    </tr>\n",
       "  </tbody>\n",
       "</table>\n",
       "<p>2230 rows × 2 columns</p>\n",
       "</div>"
      ],
      "text/plain": [
       "            date  precipitation\n",
       "2229  2017-08-23           0.45\n",
       "1528  2017-08-23           0.08\n",
       "1008  2017-08-23           0.00\n",
       "360   2017-08-23           0.00\n",
       "1527  2017-08-22           0.00\n",
       "...          ...            ...\n",
       "361   2016-08-23           0.15\n",
       "1881  2016-08-23           0.70\n",
       "1192  2016-08-23           0.02\n",
       "1009  2016-08-23            NaN\n",
       "0     2016-08-23           0.00\n",
       "\n",
       "[2230 rows x 2 columns]"
      ]
     },
     "execution_count": 10,
     "metadata": {},
     "output_type": "execute_result"
    }
   ],
   "source": [
    "# Design a query to retrieve the last 12 months of precipitation data and plot the results. \n",
    "# Starting from the most recent data point in the database. \n",
    "\n",
    "# Calculate the date one year from the last date in data set.\n",
    "latest_date = session.query(measure.date).order_by(measure.date.desc()).first()[0]\n",
    "latest_date = dt.datetime.strptime(latest_date, '%Y-%m-%d').date()\n",
    "one_year_ago = latest_date - td(days=365)\n",
    "# print(one_year_ago)\n",
    "\n",
    "# Perform a query to retrieve the data and precipitation scores\n",
    "session.query(measure).filter(measure.date <= '2017-08-23').filter(measure.date >= '2016-08-23')\n",
    "results = session.query(measure).filter(measure.date <= '2017-08-23').filter(measure.date >= '2016-08-23').all()\n",
    "data = []\n",
    "for result in results:\n",
    "    data.append({\n",
    "        'date': result.date,\n",
    "        'precipitation': result.prcp})\n",
    "\n",
    "# Create a DataFrame from the data\n",
    "precip = pd.DataFrame(data)\n",
    "\n",
    "# Sort the dataframe by date\n",
    "precip = precip.sort_values('date', ascending=False)\n",
    "precip"
   ]
  },
  {
   "cell_type": "code",
   "execution_count": 11,
   "id": "d0c9202c-c26c-4232-86aa-504fba446380",
   "metadata": {},
   "outputs": [],
   "source": [
    "# # Use Pandas Plotting with Matplotlib to plot the data \n",
    "# precip = pd.DataFrame(precip, columns=['date', 'precipitation'])\n",
    "# precip.set_index('date', inplace=True)\n",
    "# precip.plot.bar()\n",
    "# plt.show()\n",
    "\n",
    "# Query to get station and its count; list the stations and their counts in descending order.\n",
    "most_recent_date = session.query(func.max(measure.date)).first()\n"
   ]
  },
  {
   "cell_type": "code",
   "execution_count": 12,
   "id": "6d9299a1-b8de-4582-875b-504e3ef5e50e",
   "metadata": {},
   "outputs": [
    {
     "data": {
      "text/html": [
       "<div>\n",
       "<style scoped>\n",
       "    .dataframe tbody tr th:only-of-type {\n",
       "        vertical-align: middle;\n",
       "    }\n",
       "\n",
       "    .dataframe tbody tr th {\n",
       "        vertical-align: top;\n",
       "    }\n",
       "\n",
       "    .dataframe thead th {\n",
       "        text-align: right;\n",
       "    }\n",
       "</style>\n",
       "<table border=\"1\" class=\"dataframe\">\n",
       "  <thead>\n",
       "    <tr style=\"text-align: right;\">\n",
       "      <th></th>\n",
       "      <th>count</th>\n",
       "      <th>mean</th>\n",
       "      <th>std</th>\n",
       "      <th>min</th>\n",
       "      <th>25%</th>\n",
       "      <th>50%</th>\n",
       "      <th>75%</th>\n",
       "      <th>max</th>\n",
       "    </tr>\n",
       "  </thead>\n",
       "  <tbody>\n",
       "    <tr>\n",
       "      <th>precipitation</th>\n",
       "      <td>2021.0</td>\n",
       "      <td>0.177279</td>\n",
       "      <td>0.46119</td>\n",
       "      <td>0.0</td>\n",
       "      <td>0.0</td>\n",
       "      <td>0.02</td>\n",
       "      <td>0.13</td>\n",
       "      <td>6.7</td>\n",
       "    </tr>\n",
       "  </tbody>\n",
       "</table>\n",
       "</div>"
      ],
      "text/plain": [
       "                count      mean      std  min  25%   50%   75%  max\n",
       "precipitation  2021.0  0.177279  0.46119  0.0  0.0  0.02  0.13  6.7"
      ]
     },
     "execution_count": 12,
     "metadata": {},
     "output_type": "execute_result"
    }
   ],
   "source": [
    "# Use Pandas to calculate the summary statistics for the precipitation data\n",
    "\n",
    "# Assuming you have a DataFrame named 'existing_df' with a 'precipitation' column\n",
    "\n",
    "# Calculate the statistics using describe()\n",
    "stats = precip['precipitation'].describe()\n",
    "\n",
    "# Create a new DataFrame from the statistics dictionary\n",
    "stats_summary = pd.DataFrame({'precipitation': stats})\n",
    "\n",
    "# Transpose the DataFrame to have the statistics as columns instead of rows\n",
    "stats_summary = stats_summary.transpose()\n",
    "\n",
    "# Rename the index column\n",
    "stats_summary.index.name \n",
    "# pd.melt(stats_summary)\n",
    "stats_summary\n",
    "\n",
    "# TIME PERMITTING"
   ]
  },
  {
   "cell_type": "markdown",
   "id": "2717e95e-3958-4447-a0f5-53d37a14e41c",
   "metadata": {},
   "source": [
    "# Exploratory Station Analysis"
   ]
  },
  {
   "cell_type": "code",
   "execution_count": 13,
   "id": "a395aa60-a47f-4fdc-b4bf-87263e379a00",
   "metadata": {},
   "outputs": [
    {
     "data": {
      "text/plain": [
       "[(9,)]"
      ]
     },
     "execution_count": 13,
     "metadata": {},
     "output_type": "execute_result"
    }
   ],
   "source": [
    "# Design a query to calculate the total number of stations in the dataset\n",
    "\n",
    "# Calculate the total number of stations in the dataset.\n",
    "station_count = session.query(station).count()\n",
    "total_stations = [(station_count,)]\n",
    "total_stations"
   ]
  },
  {
   "cell_type": "code",
   "execution_count": 14,
   "id": "9e876c38-259e-466d-8b2c-ac19e13a625a",
   "metadata": {},
   "outputs": [
    {
     "data": {
      "text/plain": [
       "[('USC00519281', 2772),\n",
       " ('USC00519397', 2724),\n",
       " ('USC00513117', 2709),\n",
       " ('USC00519523', 2669),\n",
       " ('USC00516128', 2612),\n",
       " ('USC00514830', 2202),\n",
       " ('USC00511918', 1979),\n",
       " ('USC00517948', 1372),\n",
       " ('USC00518838', 511)]"
      ]
     },
     "execution_count": 14,
     "metadata": {},
     "output_type": "execute_result"
    }
   ],
   "source": [
    "# Design a query to find the most active stations (i.e. which stations have the most rows?)\n",
    "\n",
    "# Query to get station and its count; list the stations and their counts in descending order.\n",
    "hi_action = session.query(measure.station, func.count(measure.station)).\\\n",
    "    group_by(measure.station).\\\n",
    "    order_by(func.count(measure.station).desc()).all()\n",
    "\n",
    "# Convert the query results to a list \n",
    "hi_action_list = [(station, count) for station, count in hi_action]\n",
    "hi_action_list"
   ]
  },
  {
   "cell_type": "code",
   "execution_count": 15,
   "id": "40096c7d-8017-474d-a153-6fbd6b7dfedb",
   "metadata": {},
   "outputs": [
    {
     "name": "stdout",
     "output_type": "stream",
     "text": [
      "[(54.0, 85.0, 71.66378066378067)]\n"
     ]
    }
   ],
   "source": [
    "# Using the most active station id from the previous query, calculate the lowest, highest, and average temperature.\n",
    "\n",
    "# Get the most active station ID from the previous query\n",
    "minmax_active = hi_action[0][0]\n",
    "\n",
    "# Calculate the lowest, highest, and average temperature for the most active station\n",
    "result = session.query(func.min(measure.tobs), func.max(measure.tobs), func.avg(measure.tobs)).\\\n",
    "    filter(measure.station == minmax_active).all()\n",
    "\n",
    "# Format the result as a list of tuples\n",
    "min_max_avg = [result[0]]\n",
    "\n",
    "print(min_max_avg)"
   ]
  },
  {
   "cell_type": "code",
   "execution_count": 16,
   "id": "61c91b2a-81d8-4ddd-8e82-fc39157cbcdc",
   "metadata": {},
   "outputs": [
    {
     "data": {
      "image/png": "[encoded data removed]",
      "text/plain": [
       "<Figure size 640x480 with 1 Axes>"
      ]
     },
     "metadata": {},
     "output_type": "display_data"
    }
   ],
   "source": [
    "# Using the most active station id\n",
    "# Query the last 12 months of temperature observation data for this station and plot the results as a histogram\n",
    "\n",
    "# Query the last 12 months of temperature observation data for the most active station\n",
    "temp_data = session.query(measure.tobs).filter(measure.station == minmax_active).\\\n",
    "    filter(measure.date >= one_year_ago).all()\n",
    "\n",
    "# Extract the temperature values from the query result\n",
    "temps = [temp[0] for temp in temp_data]\n",
    "\n",
    "# Plot the histogram\n",
    "plt.hist(temps, bins=12, label='tobs')\n",
    "plt.xlabel('Temperature')\n",
    "plt.ylabel('Frequency')\n",
    "plt.legend()\n",
    "plt.show()"
   ]
  },
  {
   "cell_type": "code",
   "execution_count": 17,
   "id": "3e40cd0f-4ac6-4cd1-a41a-2ef9c96a5344",
   "metadata": {},
   "outputs": [],
   "source": [
    "# Close Session\n",
    "session.close()"
   ]
  },
  {
   "cell_type": "markdown",
   "id": "b1330bf8-4714-494e-bcfe-62b28c8072e3",
   "metadata": {},
   "source": [
    "# Design Climate App"
   ]
  },
  {
   "cell_type": "code",
   "execution_count": null,
   "id": "ddce1409-e7d9-4b36-963f-db969ba6fafd",
   "metadata": {},
   "outputs": [],
   "source": []
  }
 ],
 "metadata": {
  "kernelspec": {
   "display_name": "Python 3 (ipykernel)",
   "language": "python",
   "name": "python3"
  },
  "language_info": {
   "codemirror_mode": {
    "name": "ipython",
    "version": 3
   },
   "file_extension": ".py",
   "mimetype": "text/x-python",
   "name": "python",
   "nbconvert_exporter": "python",
   "pygments_lexer": "ipython3",
   "version": "3.9.13"
  }
 },
 "nbformat": 4,
 "nbformat_minor": 5
}
